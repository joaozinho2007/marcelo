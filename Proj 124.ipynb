{
  "cells": [
    {
      "cell_type": "markdown",
      "metadata": {
        "id": "xZm_Pf8B1ehI"
      },
      "source": [
        "## Imprimir Elementos do Array"
      ]
    },
    {
      "cell_type": "markdown",
      "metadata": {
        "id": "Sa43lAGbgtEp"
      },
      "source": [
        "**Problema**: Considere este array 1X1:\n",
        "\n",
        "```\n",
        "arr_1d = [53, 78, 90, 12, 15, 65, 44, 32, 29, 36]\n",
        "```\n",
        "\n",
        "1. Imprima o 3º e o 9º elemento do array.\n",
        "2. Altere o 3º e o 9º elemento para 100.\n"
      ]
    },
    {
      "cell_type": "code",
      "execution_count": 3,
      "metadata": {
        "id": "8Tu6DVd_gsyW"
      },
      "outputs": [
        {
          "name": "stdout",
          "output_type": "stream",
          "text": [
            "90 90\n",
            "29 29\n",
            "Array após a alteração: [ 53  78 100  12  15  65  44  32 100  36]\n"
          ]
        }
      ],
      "source": [
        "# escreva o código aqui\n",
        "import numpy as np\n",
        "arr_1d = np.array([53, 78, 90, 12, 15, 65, 44, 32, 29, 36])\n",
        "\n",
        "#Imprimir o 3° e o 9° elemento do array\n",
        "print(\"90\", arr_1d[2])\n",
        "print(\"29\", arr_1d[8])\n",
        "\n",
        "#Aletar o 3° e o 9° elemento para 100 \n",
        "arr_1d[2] = 100\n",
        "arr_1d[8] = 100\n",
        "\n",
        "print(\"Array após a alteração:\", arr_1d)"
      ]
    },
    {
      "cell_type": "markdown",
      "metadata": {
        "id": "uRA1HzKH1tnN"
      },
      "source": [
        "## Atualize os Elementos Diagonais do Array Multidimensional"
      ]
    },
    {
      "cell_type": "markdown",
      "metadata": {
        "id": "3eSRw71ohlfT"
      },
      "source": [
        "**Problema**: Considerando este array 3x3, altere todos os elementos diagonais da matriz para 0.\n",
        "\n",
        "```\n",
        "\n",
        "arr_2d = [[1,2,3],\n",
        "          [4,5,6],\n",
        "          [7,8,9]]\n",
        "```\n",
        "\n",
        "\n",
        "\n"
      ]
    },
    {
      "cell_type": "code",
      "execution_count": 4,
      "metadata": {
        "id": "FR0UU8eohcL2"
      },
      "outputs": [
        {
          "name": "stdout",
          "output_type": "stream",
          "text": [
            "Matriz após atualização dos elemntos diagonais:\n",
            " [[0 2 3]\n",
            " [4 0 6]\n",
            " [7 8 0]]\n"
          ]
        }
      ],
      "source": [
        "#Escreva o código aqui\n",
        "arr_2d = np.array([[1,2,3],\n",
        "                   [4,5,6],\n",
        "                   [7,8,9]])\n",
        "\n",
        "#Atualizar todos os elementos diagonais para 0\n",
        "np.fill_diagonal(arr_2d, 0)\n",
        "\n",
        "print(\"Matriz após atualização dos elemntos diagonais:\\n\", arr_2d)"
      ]
    },
    {
      "cell_type": "markdown",
      "metadata": {
        "id": "bXr0ly2R2eWL"
      },
      "source": [
        "## Números de Linhas e Colunas"
      ]
    },
    {
      "cell_type": "markdown",
      "metadata": {
        "id": "Zd4zvVe6aDuH"
      },
      "source": [
        "**Problema**: Escreva um programa para encontrar o número de linhas e colunas presentes na matriz abaixo. \n",
        "Observação: Inicialize a matriz usando NumPy.\n",
        "\n",
        "```\n",
        " A= [[9,5,6,1,-2],\n",
        "    [3,-8,1,2,0],\n",
        "    [6,9,3,3,5]]\n",
        "```\n",
        "\n"
      ]
    },
    {
      "cell_type": "code",
      "execution_count": 5,
      "metadata": {
        "id": "Pc1piH7OaABW"
      },
      "outputs": [
        {
          "name": "stdout",
          "output_type": "stream",
          "text": [
            "Número de linhas: 3\n",
            "Número de colunas: 5\n"
          ]
        }
      ],
      "source": [
        "# escreva o código aqui\n",
        "import numpy as np\n",
        "\n",
        "A = np.array([[9,5,6,1,-2],\n",
        "              [3,-8,1,2,0],\n",
        "              [6,9,3,3,5]])\n",
        "\n",
        "num_linhas, num_colunas = A.shape\n",
        "\n",
        "print(f\"Número de linhas: {num_linhas}\")\n",
        "print(f\"Número de colunas: {num_colunas}\")"
      ]
    },
    {
      "cell_type": "markdown",
      "metadata": {
        "id": "e-VQUDqo3Z89"
      },
      "source": [
        "## Multiplicação Escalar"
      ]
    },
    {
      "cell_type": "markdown",
      "metadata": {
        "id": "T49oCERtaugu"
      },
      "source": [
        "**Problema**: Imprima cada elemento da matriz a seguir. Inicialize a matriz usando NumPy.  <br />\n",
        "Além disso, multiplique a matriz por n = 150 e imprima a matriz após a multiplicação.\n",
        "   \n",
        "```\n",
        " B=[[-8,0,2,4],[5,2,-1,7]]\n",
        "```\n",
        "\n",
        "\n",
        "   "
      ]
    },
    {
      "cell_type": "code",
      "execution_count": 9,
      "metadata": {
        "id": "lqYsQ20ZgeXy"
      },
      "outputs": [
        {
          "name": "stdout",
          "output_type": "stream",
          "text": [
            "Matriz B antes da multiplicação:\n",
            "[[-8  0  2  4]\n",
            " [ 5  2 -1  7]]\n",
            "\n",
            "Matriz B após a multiplicação por 150:\n",
            " [[-1200     0   300   600]\n",
            " [  750   300  -150  1050]]\n"
          ]
        }
      ],
      "source": [
        "import numpy as np\n",
        "\n",
        "B = np.array([[-8,0,2,4],\n",
        "              [5,2,-1,7]])\n",
        "\n",
        "#Imprimir cada elemento da matriz B\n",
        "print(\"Matriz B antes da multiplicação:\")\n",
        "print(B)\n",
        "\n",
        "#Multiplicar a matriz por n = 150\n",
        "n= 150\n",
        "B *= n\n",
        "\n",
        "print(f\"\\nMatriz B após a multiplicação por {n}:\\n\", B)"
      ]
    }
  ],
  "metadata": {
    "colab": {
      "collapsed_sections": [],
      "name": "PRO-124-Project-Boilerplate-Code(pt).ipynb",
      "provenance": []
    },
    "kernelspec": {
      "display_name": "Python 3",
      "name": "python3"
    },
    "language_info": {
      "codemirror_mode": {
        "name": "ipython",
        "version": 3
      },
      "file_extension": ".py",
      "mimetype": "text/x-python",
      "name": "python",
      "nbconvert_exporter": "python",
      "pygments_lexer": "ipython3",
      "version": "3.11.4"
    }
  },
  "nbformat": 4,
  "nbformat_minor": 0
}
